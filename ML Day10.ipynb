{
 "cells": [
  {
   "cell_type": "code",
   "execution_count": 1,
   "metadata": {
    "collapsed": true
   },
   "outputs": [],
   "source": [
    "#training data based on algos of data science\n",
    "#spam filtering\n",
    "#train data and test data\n",
    "#use- database mining bcoz we have large datasets these days and we can make prediction on them to make system efficients\n",
    "#some applications like DRIVERLESS CAR can't be programmed bcoz these have many sensors and hence we do ML"
   ]
  },
  {
   "cell_type": "code",
   "execution_count": 2,
   "metadata": {
    "collapsed": true
   },
   "outputs": [],
   "source": [
    "#handwriting recognition in windows -eg of ML\n",
    "#Mitsuku chat bot- example of Natural language processing(NLP)\n",
    "#computer vision- image recognition - eg- Caffe framework (a deep learning framework)\n",
    "#self customising programs- amazon, netflix etc."
   ]
  },
  {
   "cell_type": "code",
   "execution_count": 3,
   "metadata": {
    "collapsed": true
   },
   "outputs": [],
   "source": [
    "#officailly def\n",
    "#Is the field of study that gives computers the ability to learn without being explicitly programmed -Arthur samuel"
   ]
  },
  {
   "cell_type": "code",
   "execution_count": 4,
   "metadata": {
    "collapsed": true
   },
   "outputs": [],
   "source": [
    "#important def- A computer program is said to learn from experience E w.r.t some task T and some performance measure P...\n",
    "#if its performance on T ,as measured bt P, improves with experience E -then its called ML\n",
    "#by Tom Mitchell"
   ]
  },
  {
   "cell_type": "code",
   "execution_count": 5,
   "metadata": {
    "collapsed": true
   },
   "outputs": [],
   "source": [
    "#Machine learning algorithms\n",
    "#1- supervised learning- previous experience based prediction eg- house price prediction\n",
    "#2- unsupervised learning- \n",
    "#3- reinforcement learning"
   ]
  },
  {
   "cell_type": "code",
   "execution_count": 6,
   "metadata": {
    "collapsed": true
   },
   "outputs": [],
   "source": [
    "#jo value hum predict krte h based on train data is y^\n",
    "#jo value plotting se aai h that's y\n",
    "#distance between predicted and actual result is called margin error"
   ]
  },
  {
   "cell_type": "code",
   "execution_count": 7,
   "metadata": {
    "collapsed": true
   },
   "outputs": [],
   "source": [
    "#regression - predict continuous valued output"
   ]
  },
  {
   "cell_type": "code",
   "execution_count": 9,
   "metadata": {
    "collapsed": true
   },
   "outputs": [],
   "source": [
    "#linear regression prediction can be used on numeric prediction like y=mx+c\n",
    "#classification regression can b used on spam or not example, malignant or benign breast cancer (we use logistics regression here)\n",
    "#classification is also of 2 types- binary (jisme 0 and 1 aata h) other one is yes or no"
   ]
  }
 ],
 "metadata": {
  "kernelspec": {
   "display_name": "Python 3",
   "language": "python",
   "name": "python3"
  },
  "language_info": {
   "codemirror_mode": {
    "name": "ipython",
    "version": 3
   },
   "file_extension": ".py",
   "mimetype": "text/x-python",
   "name": "python",
   "nbconvert_exporter": "python",
   "pygments_lexer": "ipython3",
   "version": "3.6.1"
  }
 },
 "nbformat": 4,
 "nbformat_minor": 2
}

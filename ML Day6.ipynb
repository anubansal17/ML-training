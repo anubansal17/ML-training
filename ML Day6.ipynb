{
 "cells": [
  {
   "cell_type": "code",
   "execution_count": 1,
   "metadata": {},
   "outputs": [
    {
     "name": "stdout",
     "output_type": "stream",
     "text": [
      "30\n"
     ]
    }
   ],
   "source": [
    "#required  argument\n",
    "def sum(a,b):\n",
    "    c=a+b\n",
    "    print(c)\n",
    "\n",
    "\n",
    "\n",
    "sum(10,20)"
   ]
  },
  {
   "cell_type": "code",
   "execution_count": 7,
   "metadata": {},
   "outputs": [
    {
     "name": "stdout",
     "output_type": "stream",
     "text": [
      "30\n"
     ]
    }
   ],
   "source": [
    "#default argument:value are not passed\n",
    "def sum(a,b=20):\n",
    "    c=a+b\n",
    "    print(c)\n",
    "\n",
    "sum(10)\n",
    "#two cases:\n",
    "#sum(10)\n",
    "#sum(10,300)  #value of b is replaced with 300\n"
   ]
  },
  {
   "cell_type": "code",
   "execution_count": 2,
   "metadata": {},
   "outputs": [
    {
     "name": "stdout",
     "output_type": "stream",
     "text": [
      "30\n"
     ]
    }
   ],
   "source": [
    "#keyword argument\n",
    "def sum(a,y):\n",
    "    #sum(x,y)\n",
    "    c=x+y\n",
    "    print(c)\n",
    "\n",
    "\n",
    "\n",
    "x=10\n",
    "sum(x,y=20)\n",
    "#sum(x=20,y=30)\n",
    "\n",
    "\n"
   ]
  },
  {
   "cell_type": "code",
   "execution_count": 3,
   "metadata": {
    "collapsed": true
   },
   "outputs": [],
   "source": [
    "def summ():\n",
    "    x=int(input(\"enter first number:\"))\n",
    "    y=int(input(\"enter the second number:\"))\n",
    "    t=x+y\n",
    "    print(\"total:\",t)\n",
    "def sub():\n",
    "    x=int(input(\"enter first number:\"))\n",
    "    y=int(input(\"enter the second number:\"))\n",
    "    d=x-y\n",
    "    print(\"diff:\",d)"
   ]
  },
  {
   "cell_type": "code",
   "execution_count": 4,
   "metadata": {},
   "outputs": [
    {
     "name": "stdout",
     "output_type": "stream",
     "text": [
      "result: 200\n"
     ]
    }
   ],
   "source": [
    "def area(x,y):\n",
    "    a=x*y\n",
    "    return(a)\n",
    "\n",
    "\n",
    "\n",
    "\n",
    "\n",
    "r=area(10,20)\n",
    "print(\"result:\",r)"
   ]
  },
  {
   "cell_type": "code",
   "execution_count": 5,
   "metadata": {},
   "outputs": [
    {
     "name": "stdout",
     "output_type": "stream",
     "text": [
      "area of circle: 314.0\n",
      "area of rectangle: 200\n",
      "volume: 6000\n"
     ]
    }
   ],
   "source": [
    "#variable length argument\n",
    "def area(x,*t):\n",
    "    if(len(t)==0):\n",
    "        a=3.14*x**2\n",
    "        print(\"area of circle:\",a)\n",
    "    elif(len(t)==1):\n",
    "        a=x*t[0]\n",
    "        print(\"area of rectangle:\",a)\n",
    "    elif(len(t)==2):\n",
    "        v=x*t[0]*t[1]\n",
    "        print(\"volume:\",v)\n",
    "area(10)  #area of circle\n",
    "area(10,20) #area of rectangle\n",
    "area(10,20,30) #volume\n",
    "    \n",
    "\n"
   ]
  }
 ],
 "metadata": {
  "kernelspec": {
   "display_name": "Python 3",
   "language": "python",
   "name": "python3"
  },
  "language_info": {
   "codemirror_mode": {
    "name": "ipython",
    "version": 3
   },
   "file_extension": ".py",
   "mimetype": "text/x-python",
   "name": "python",
   "nbconvert_exporter": "python",
   "pygments_lexer": "ipython3",
   "version": "3.6.1"
  }
 },
 "nbformat": 4,
 "nbformat_minor": 2
}

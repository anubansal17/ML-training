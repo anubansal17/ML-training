{
 "cells": [
  {
   "cell_type": "code",
   "execution_count": 2,
   "metadata": {},
   "outputs": [
    {
     "name": "stdout",
     "output_type": "stream",
     "text": [
      "enter number0\n",
      "10\n"
     ]
    }
   ],
   "source": [
    "#Exception handling\n",
    "#compile time error- syntax error\n",
    "#runtime error- exception\n",
    "l=[10,20,30]\n",
    "p=int(input(\"enter number\"))\n",
    "print(l[p])"
   ]
  },
  {
   "cell_type": "code",
   "execution_count": 3,
   "metadata": {},
   "outputs": [
    {
     "name": "stdout",
     "output_type": "stream",
     "text": [
      "enter number5\n"
     ]
    },
    {
     "ename": "IndexError",
     "evalue": "list index out of range",
     "output_type": "error",
     "traceback": [
      "\u001b[0;31m---------------------------------------------------------------------------\u001b[0m",
      "\u001b[0;31mIndexError\u001b[0m                                Traceback (most recent call last)",
      "\u001b[0;32m<ipython-input-3-7d256e005580>\u001b[0m in \u001b[0;36m<module>\u001b[0;34m()\u001b[0m\n\u001b[1;32m      1\u001b[0m \u001b[0ml\u001b[0m\u001b[0;34m=\u001b[0m\u001b[0;34m[\u001b[0m\u001b[0;36m10\u001b[0m\u001b[0;34m,\u001b[0m\u001b[0;36m20\u001b[0m\u001b[0;34m,\u001b[0m\u001b[0;36m30\u001b[0m\u001b[0;34m]\u001b[0m\u001b[0;34m\u001b[0m\u001b[0m\n\u001b[1;32m      2\u001b[0m \u001b[0mp\u001b[0m\u001b[0;34m=\u001b[0m\u001b[0mint\u001b[0m\u001b[0;34m(\u001b[0m\u001b[0minput\u001b[0m\u001b[0;34m(\u001b[0m\u001b[0;34m\"enter number\"\u001b[0m\u001b[0;34m)\u001b[0m\u001b[0;34m)\u001b[0m\u001b[0;34m\u001b[0m\u001b[0m\n\u001b[0;32m----> 3\u001b[0;31m \u001b[0mprint\u001b[0m\u001b[0;34m(\u001b[0m\u001b[0ml\u001b[0m\u001b[0;34m[\u001b[0m\u001b[0mp\u001b[0m\u001b[0;34m]\u001b[0m\u001b[0;34m)\u001b[0m \u001b[0;31m#runtime error- exception (index error)\u001b[0m\u001b[0;34m\u001b[0m\u001b[0m\n\u001b[0m",
      "\u001b[0;31mIndexError\u001b[0m: list index out of range"
     ]
    }
   ],
   "source": [
    "l=[10,20,30]\n",
    "p=int(input(\"enter number\"))\n",
    "print(l[p]) #runtime error- exception (index error)"
   ]
  },
  {
   "cell_type": "code",
   "execution_count": 4,
   "metadata": {},
   "outputs": [
    {
     "name": "stdout",
     "output_type": "stream",
     "text": [
      "enter numberA\n"
     ]
    },
    {
     "ename": "ValueError",
     "evalue": "invalid literal for int() with base 10: 'A'",
     "output_type": "error",
     "traceback": [
      "\u001b[0;31m---------------------------------------------------------------------------\u001b[0m",
      "\u001b[0;31mValueError\u001b[0m                                Traceback (most recent call last)",
      "\u001b[0;32m<ipython-input-4-916c5f918982>\u001b[0m in \u001b[0;36m<module>\u001b[0;34m()\u001b[0m\n\u001b[1;32m      1\u001b[0m \u001b[0ml\u001b[0m\u001b[0;34m=\u001b[0m\u001b[0;34m[\u001b[0m\u001b[0;36m10\u001b[0m\u001b[0;34m,\u001b[0m\u001b[0;36m20\u001b[0m\u001b[0;34m,\u001b[0m\u001b[0;36m30\u001b[0m\u001b[0;34m]\u001b[0m\u001b[0;34m\u001b[0m\u001b[0m\n\u001b[0;32m----> 2\u001b[0;31m \u001b[0mp\u001b[0m\u001b[0;34m=\u001b[0m\u001b[0mint\u001b[0m\u001b[0;34m(\u001b[0m\u001b[0minput\u001b[0m\u001b[0;34m(\u001b[0m\u001b[0;34m\"enter number\"\u001b[0m\u001b[0;34m)\u001b[0m\u001b[0;34m)\u001b[0m\u001b[0;34m\u001b[0m\u001b[0m\n\u001b[0m\u001b[1;32m      3\u001b[0m \u001b[0mprint\u001b[0m\u001b[0;34m(\u001b[0m\u001b[0ml\u001b[0m\u001b[0;34m[\u001b[0m\u001b[0mp\u001b[0m\u001b[0;34m]\u001b[0m\u001b[0;34m)\u001b[0m\u001b[0;31m# value error (data mismatch)\u001b[0m\u001b[0;34m\u001b[0m\u001b[0m\n",
      "\u001b[0;31mValueError\u001b[0m: invalid literal for int() with base 10: 'A'"
     ]
    }
   ],
   "source": [
    "l=[10,20,30]\n",
    "p=int(input(\"enter number\"))\n",
    "print(l[p])# value error (data mismatch)"
   ]
  },
  {
   "cell_type": "code",
   "execution_count": 5,
   "metadata": {},
   "outputs": [
    {
     "name": "stdout",
     "output_type": "stream",
     "text": [
      "enter number0\n"
     ]
    },
    {
     "ename": "ZeroDivisionError",
     "evalue": "division by zero",
     "output_type": "error",
     "traceback": [
      "\u001b[0;31m---------------------------------------------------------------------------\u001b[0m",
      "\u001b[0;31mZeroDivisionError\u001b[0m                         Traceback (most recent call last)",
      "\u001b[0;32m<ipython-input-5-b254d800edda>\u001b[0m in \u001b[0;36m<module>\u001b[0;34m()\u001b[0m\n\u001b[1;32m      1\u001b[0m \u001b[0mp\u001b[0m\u001b[0;34m=\u001b[0m\u001b[0mint\u001b[0m\u001b[0;34m(\u001b[0m\u001b[0minput\u001b[0m\u001b[0;34m(\u001b[0m\u001b[0;34m\"enter number\"\u001b[0m\u001b[0;34m)\u001b[0m\u001b[0;34m)\u001b[0m\u001b[0;34m\u001b[0m\u001b[0m\n\u001b[0;32m----> 2\u001b[0;31m \u001b[0mprint\u001b[0m\u001b[0;34m(\u001b[0m\u001b[0;36m10\u001b[0m\u001b[0;34m/\u001b[0m\u001b[0mp\u001b[0m\u001b[0;34m)\u001b[0m \u001b[0;31m#Zero division error\u001b[0m\u001b[0;34m\u001b[0m\u001b[0m\n\u001b[0m",
      "\u001b[0;31mZeroDivisionError\u001b[0m: division by zero"
     ]
    }
   ],
   "source": [
    "p=int(input(\"enter number\"))\n",
    "print(10/p) #Zero division error"
   ]
  },
  {
   "cell_type": "code",
   "execution_count": 6,
   "metadata": {},
   "outputs": [
    {
     "name": "stdout",
     "output_type": "stream",
     "text": [
      "enter number4\n",
      "Invalid index\n"
     ]
    }
   ],
   "source": [
    "#try and catch block\n",
    "#in python we have try and except block\n",
    "l=[10,20,30]\n",
    "try:\n",
    "    \n",
    "    p=int(input(\"enter number\"))\n",
    "    print(l[p])\n",
    "except:\n",
    "    print(\"Invalid index\")"
   ]
  },
  {
   "cell_type": "code",
   "execution_count": 7,
   "metadata": {},
   "outputs": [
    {
     "name": "stdout",
     "output_type": "stream",
     "text": [
      "enter number4\n",
      "list index out of range\n"
     ]
    }
   ],
   "source": [
    "l=[10,20,30]\n",
    "try:\n",
    "    \n",
    "    p=int(input(\"enter number\"))\n",
    "    print(l[p])\n",
    "except IndexError as ex: #this sends the system error in object ex \n",
    "    print(ex)"
   ]
  },
  {
   "cell_type": "code",
   "execution_count": 21,
   "metadata": {},
   "outputs": [
    {
     "name": "stdout",
     "output_type": "stream",
     "text": [
      "enter number  as\n",
      "invalid literal for int() with base 10: 'as'\n"
     ]
    }
   ],
   "source": [
    "l=[10,20,30]\n",
    "try:\n",
    "    \n",
    "    p=int(input(\"enter number  \"))\n",
    "    print(l[p])\n",
    "except IndexError as ex:#this one is for index error\n",
    "    print(ex)\n",
    "except ValueError as er:#this one is for value error\n",
    "    print(er)"
   ]
  },
  {
   "cell_type": "code",
   "execution_count": 9,
   "metadata": {},
   "outputs": [
    {
     "name": "stdout",
     "output_type": "stream",
     "text": [
      "enter number0\n",
      "division by zero\n"
     ]
    }
   ],
   "source": [
    "try:\n",
    "    p=int(input(\"enter number\"))\n",
    "    print(10/p)\n",
    "except ZeroDivisionError as zr:\n",
    "    print(zr)"
   ]
  },
  {
   "cell_type": "code",
   "execution_count": 1,
   "metadata": {},
   "outputs": [
    {
     "name": "stdout",
     "output_type": "stream",
     "text": [
      "enter number  4\n",
      "list index out of range\n"
     ]
    }
   ],
   "source": [
    "#when we have multiple errors \n",
    "l=[10,20,30]\n",
    "try:\n",
    "    \n",
    "    p=int(input(\"enter number  \"))\n",
    "    print(l[p])\n",
    "except Exception as ex:# Exception is a base class for exception of all types as it handles all exception\n",
    "    print(ex)"
   ]
  },
  {
   "cell_type": "code",
   "execution_count": 11,
   "metadata": {},
   "outputs": [
    {
     "name": "stdout",
     "output_type": "stream",
     "text": [
      "enter number  4\n",
      "list index out of range\n",
      "hi\n"
     ]
    }
   ],
   "source": [
    "#finally -executes in both cases either when try block is running or except block\n",
    "#- when we want to execute a task in all conditions\n",
    "l=[10,20,30]\n",
    "try:\n",
    "    \n",
    "    p=int(input(\"enter number  \"))\n",
    "    print(l[p])\n",
    "except Exception as ex:\n",
    "    print(ex)\n",
    "finally:\n",
    "    print(\"hi\")"
   ]
  },
  {
   "cell_type": "code",
   "execution_count": 12,
   "metadata": {},
   "outputs": [
    {
     "name": "stdout",
     "output_type": "stream",
     "text": [
      "enter number  44\n",
      "list index out of range\n",
      "hi\n"
     ]
    }
   ],
   "source": [
    "l=[10,20,30]\n",
    "try:\n",
    "    \n",
    "    p=int(input(\"enter number  \"))\n",
    "    print(l[p])\n",
    "except Exception as ex:\n",
    "    print(ex)\n",
    "finally:\n",
    "    print(\"hi\")\n",
    "    "
   ]
  },
  {
   "cell_type": "code",
   "execution_count": 3,
   "metadata": {},
   "outputs": [
    {
     "name": "stdout",
     "output_type": "stream",
     "text": [
      "enter number  2\n",
      "30\n",
      "hello\n",
      "hi\n"
     ]
    }
   ],
   "source": [
    "l=[10,20,30]\n",
    "try:\n",
    "    \n",
    "    p=int(input(\"enter number  \"))\n",
    "    print(l[p])\n",
    "except Exception as ex:\n",
    "    print(ex)\n",
    "else: #else block is executed when try block is a success\n",
    "    print(\"hello\")\n",
    "finally:\n",
    "    print(\"hi\")"
   ]
  },
  {
   "cell_type": "code",
   "execution_count": 15,
   "metadata": {},
   "outputs": [
    {
     "name": "stdout",
     "output_type": "stream",
     "text": [
      "enter number  44\n",
      "list index out of range\n"
     ]
    }
   ],
   "source": [
    "l=[10,20,30]\n",
    "try:\n",
    "#------------operation 1-------------------#now if exception occurs in operation 1 ,op 2 is also aborted\n",
    "    \n",
    "    p=int(input(\"enter number  \"))\n",
    "    print(l[p])\n",
    "#--------------operation 2----------\n",
    "    d=int(input(\"Enter value of d  \")) \n",
    "    print(10/d)\n",
    "except Exception as ex:\n",
    "    print(ex)"
   ]
  },
  {
   "cell_type": "code",
   "execution_count": 16,
   "metadata": {},
   "outputs": [
    {
     "name": "stdout",
     "output_type": "stream",
     "text": [
      "enter number  44\n",
      "list index out of range\n",
      "Enter value of d  1\n",
      "10.0\n"
     ]
    }
   ],
   "source": [
    "#now how to resolve the different operations error- use nested try-except blocks\n",
    "l=[10,20,30]\n",
    "try:\n",
    "#------------operation 1-------------------#we use nested try on 1st operation\n",
    "    try:\n",
    "        \n",
    "        p=int(input(\"enter number  \"))\n",
    "        print(l[p])\n",
    "    except Exception as ex:\n",
    "        print(ex)\n",
    "#--------------operation 2----------\n",
    "    d=int(input(\"Enter value of d  \")) \n",
    "    print(10/d)\n",
    "except Exception as ex:\n",
    "    print(ex)"
   ]
  },
  {
   "cell_type": "code",
   "execution_count": 44,
   "metadata": {},
   "outputs": [
    {
     "name": "stdout",
     "output_type": "stream",
     "text": [
      "10,20,30,40,50,60,70\n",
      "\n"
     ]
    }
   ],
   "source": [
    "#---------------------FILE HANDLING--------------------------\n",
    "myfile=open(\"/home/anu/Desktop/anu\",\"r\");\n",
    "str=myfile.read()\n",
    "print(str) # prints the entire file\n",
    "str=myfile.readline() # reads only the first line\n",
    "while(str!=\"\"):\n",
    "    print(str)\n",
    "    str=myfile.readline()"
   ]
  },
  {
   "cell_type": "code",
   "execution_count": 45,
   "metadata": {},
   "outputs": [
    {
     "data": {
      "text/plain": [
       "'10,20,30,40,50,60,70\\n'"
      ]
     },
     "execution_count": 45,
     "metadata": {},
     "output_type": "execute_result"
    }
   ],
   "source": [
    "path='/home/anu/Desktop/anu'\n",
    "open(path).readline()"
   ]
  },
  {
   "cell_type": "code",
   "execution_count": 46,
   "metadata": {},
   "outputs": [
    {
     "name": "stdout",
     "output_type": "stream",
     "text": [
      "you can do it !\n",
      "\n",
      "\n"
     ]
    }
   ],
   "source": [
    "path='/home/anu/Desktop/abc'\n",
    "myfile=open(path,\"r\");\n",
    "str=myfile.read()\n",
    "print(str)"
   ]
  },
  {
   "cell_type": "code",
   "execution_count": 1,
   "metadata": {},
   "outputs": [
    {
     "name": "stdout",
     "output_type": "stream",
     "text": [
      "5\n"
     ]
    }
   ],
   "source": [
    "#assignment - no of lines, no of words, no of characters, no. of vowels in file\n",
    "#no of words in a file\n",
    "myfile=open(\"/home/anu/Desktop/abc\",\"r\")\n",
    "str=myfile.read()\n",
    "s=0\n",
    "while(str!=\"\"):\n",
    "    l=str.split()\n",
    "    n=len(l)\n",
    "    s=s+n\n",
    "    print(n)\n",
    "    str=myfile.readline()\n",
    "\n",
    "#print(\"total number of words:\",s)"
   ]
  },
  {
   "cell_type": "code",
   "execution_count": 63,
   "metadata": {},
   "outputs": [
    {
     "name": "stdout",
     "output_type": "stream",
     "text": [
      "total no of characters: 17\n"
     ]
    }
   ],
   "source": [
    "#no. of characters\n",
    "str=myfile.readline()\n",
    "while(str!=\"\"):\n",
    "\n",
    "    n=len(str)\n",
    "    s=s+n\n",
    "    print(n)\n",
    "    str=myfile.readline()\n",
    "print(\"total no of characters:\", s)"
   ]
  },
  {
   "cell_type": "code",
   "execution_count": null,
   "metadata": {
    "collapsed": true
   },
   "outputs": [],
   "source": []
  }
 ],
 "metadata": {
  "kernelspec": {
   "display_name": "Python 3",
   "language": "python",
   "name": "python3"
  },
  "language_info": {
   "codemirror_mode": {
    "name": "ipython",
    "version": 3
   },
   "file_extension": ".py",
   "mimetype": "text/x-python",
   "name": "python",
   "nbconvert_exporter": "python",
   "pygments_lexer": "ipython3",
   "version": "3.6.1"
  }
 },
 "nbformat": 4,
 "nbformat_minor": 2
}

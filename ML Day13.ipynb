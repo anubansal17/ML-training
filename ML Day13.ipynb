{
 "cells": [
  {
   "cell_type": "code",
   "execution_count": 3,
   "metadata": {},
   "outputs": [
    {
     "name": "stdout",
     "output_type": "stream",
     "text": [
      "[1 2 3]\n"
     ]
    }
   ],
   "source": [
    "#a[0,:] for first row print\n",
    "import numpy as np\n",
    "a=np.array([[1,2,3],[2,5,7],[3,6,9]])\n",
    "print(a[0,:])"
   ]
  },
  {
   "cell_type": "code",
   "execution_count": 4,
   "metadata": {},
   "outputs": [
    {
     "name": "stdout",
     "output_type": "stream",
     "text": [
      "item column 1 onwards are\n",
      "[[2 3]\n",
      " [5 7]\n",
      " [6 9]]\n"
     ]
    }
   ],
   "source": [
    "print(\"item column 1 onwards are\")\n",
    "print(a[:,1:])"
   ]
  },
  {
   "cell_type": "code",
   "execution_count": 5,
   "metadata": {},
   "outputs": [
    {
     "name": "stdout",
     "output_type": "stream",
     "text": [
      "[[0 0 0]\n",
      " [2 5 7]\n",
      " [3 6 9]]\n"
     ]
    }
   ],
   "source": [
    "a[0,:]=0   #to make first row 0\n",
    "print(a)"
   ]
  },
  {
   "cell_type": "code",
   "execution_count": 6,
   "metadata": {},
   "outputs": [
    {
     "name": "stdout",
     "output_type": "stream",
     "text": [
      "7\n",
      "6\n",
      "9\n"
     ]
    }
   ],
   "source": [
    "#to fetch data above 5\n",
    "for i in range(3):\n",
    "    for j in range(3):\n",
    "        if(a[i,j]>5):\n",
    "            print(a[i,j])"
   ]
  },
  {
   "cell_type": "code",
   "execution_count": 7,
   "metadata": {},
   "outputs": [
    {
     "name": "stdout",
     "output_type": "stream",
     "text": [
      "[[False False False]\n",
      " [False False  True]\n",
      " [False  True  True]]\n"
     ]
    }
   ],
   "source": [
    "#with boolean indexing\n",
    "f=a>5\n",
    "print(f)"
   ]
  },
  {
   "cell_type": "code",
   "execution_count": 8,
   "metadata": {},
   "outputs": [
    {
     "name": "stdout",
     "output_type": "stream",
     "text": [
      "[7 6 9]\n"
     ]
    }
   ],
   "source": [
    "print(a[f])"
   ]
  },
  {
   "cell_type": "code",
   "execution_count": 10,
   "metadata": {},
   "outputs": [
    {
     "name": "stdout",
     "output_type": "stream",
     "text": [
      "[[ True  True  True]\n",
      " [ True False False]\n",
      " [False  True False]]\n"
     ]
    }
   ],
   "source": [
    "#to print all even numbers\n",
    "g=(a%2==0)\n",
    "print(g)"
   ]
  },
  {
   "cell_type": "code",
   "execution_count": 11,
   "metadata": {},
   "outputs": [
    {
     "name": "stdout",
     "output_type": "stream",
     "text": [
      "[0 0 0 2 6]\n"
     ]
    }
   ],
   "source": [
    "print(a[g])"
   ]
  },
  {
   "cell_type": "code",
   "execution_count": 14,
   "metadata": {},
   "outputs": [
    {
     "name": "stdout",
     "output_type": "stream",
     "text": [
      "[[0]\n",
      " [0]\n",
      " [0]\n",
      " [2]\n",
      " [5]\n",
      " [7]\n",
      " [3]\n",
      " [6]\n",
      " [9]]\n"
     ]
    }
   ],
   "source": [
    "x=a.reshape(9,1)\n",
    "print(x)"
   ]
  },
  {
   "cell_type": "code",
   "execution_count": 20,
   "metadata": {},
   "outputs": [
    {
     "name": "stdout",
     "output_type": "stream",
     "text": [
      "3.55555555556\n"
     ]
    }
   ],
   "source": [
    "\"\"\"\"y=np.sum(a)\n",
    "avg=y/9\n",
    "print(avg)\"\"\"\n",
    "y=np.mean(a)\n",
    "print(y)"
   ]
  },
  {
   "cell_type": "code",
   "execution_count": 17,
   "metadata": {},
   "outputs": [
    {
     "name": "stdout",
     "output_type": "stream",
     "text": [
      "[5 7 6 9]\n"
     ]
    }
   ],
   "source": [
    "z=x>avg\n",
    "print(x[z])"
   ]
  },
  {
   "cell_type": "code",
   "execution_count": 19,
   "metadata": {},
   "outputs": [
    {
     "name": "stdout",
     "output_type": "stream",
     "text": [
      "4\n"
     ]
    }
   ],
   "source": [
    "print(len(x[z]))"
   ]
  },
  {
   "cell_type": "code",
   "execution_count": 21,
   "metadata": {},
   "outputs": [
    {
     "name": "stdout",
     "output_type": "stream",
     "text": [
      "[[-3.55555556]\n",
      " [-3.55555556]\n",
      " [-3.55555556]\n",
      " [-1.55555556]\n",
      " [ 1.44444444]\n",
      " [ 3.44444444]\n",
      " [-0.55555556]\n",
      " [ 2.44444444]\n",
      " [ 5.44444444]]\n"
     ]
    }
   ],
   "source": [
    "print(x-avg)"
   ]
  },
  {
   "cell_type": "markdown",
   "metadata": {},
   "source": [
    "# Python"
   ]
  },
  {
   "cell_type": "code",
   "execution_count": null,
   "metadata": {
    "collapsed": true
   },
   "outputs": [],
   "source": []
  }
 ],
 "metadata": {
  "kernelspec": {
   "display_name": "Python 3",
   "language": "python",
   "name": "python3"
  },
  "language_info": {
   "codemirror_mode": {
    "name": "ipython",
    "version": 3
   },
   "file_extension": ".py",
   "mimetype": "text/x-python",
   "name": "python",
   "nbconvert_exporter": "python",
   "pygments_lexer": "ipython3",
   "version": "3.6.1"
  }
 },
 "nbformat": 4,
 "nbformat_minor": 2
}

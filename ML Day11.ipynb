{
 "cells": [
  {
   "cell_type": "code",
   "execution_count": 1,
   "metadata": {},
   "outputs": [
    {
     "data": {
      "text/plain": [
       "'number series, similarity wise prediction,\\nnews suggestions, youtube video suggestions,social network analysys(might be ur friend0)\\nmarket segmentation,astronomical data analysis'"
      ]
     },
     "execution_count": 1,
     "metadata": {},
     "output_type": "execute_result"
    }
   ],
   "source": [
    "#example of unsupervised learning\n",
    "\"\"\"number series, similarity wise prediction,\n",
    "news suggestions, youtube video suggestions,social network analysys(might be ur friend0)\n",
    "market segmentation,astronomical data analysis\"\"\""
   ]
  },
  {
   "cell_type": "code",
   "execution_count": 2,
   "metadata": {
    "collapsed": true
   },
   "outputs": [],
   "source": [
    "#reinforce learning- self driving car, gets positive and negative rewards"
   ]
  },
  {
   "cell_type": "markdown",
   "metadata": {},
   "source": [
    "# linear regression"
   ]
  },
  {
   "cell_type": "code",
   "execution_count": 3,
   "metadata": {
    "collapsed": true
   },
   "outputs": [],
   "source": [
    "#find unused variables, find positive and negative corelations, find dependent and independent variables,if not relSSEeated to positive or negative then dont take that variable\n",
    "#one variable regression\n",
    "#dependent variable, independent variable, error term,intercept coefficient,regression coefficient\n",
    "#SSE=(sum of residuals)^2==(sum of(y-yi))^2"
   ]
  }
 ],
 "metadata": {
  "kernelspec": {
   "display_name": "Python 3",
   "language": "python",
   "name": "python3"
  },
  "language_info": {
   "codemirror_mode": {
    "name": "ipython",
    "version": 3
   },
   "file_extension": ".py",
   "mimetype": "text/x-python",
   "name": "python",
   "nbconvert_exporter": "python",
   "pygments_lexer": "ipython3",
   "version": "3.6.1"
  }
 },
 "nbformat": 4,
 "nbformat_minor": 2
}
